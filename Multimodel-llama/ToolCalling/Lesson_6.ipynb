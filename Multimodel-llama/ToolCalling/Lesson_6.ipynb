{
 "cells": [
  {
   "cell_type": "markdown",
   "metadata": {},
   "source": [
    "# Tool Calling Use Cases"
   ]
  },
  {
   "cell_type": "markdown",
   "metadata": {},
   "source": [
    "<p style=\"background-color:#fff6e4; padding:15px; border-width:3px; border-color:#f5ecda; border-style:solid; border-radius:6px\"> ⏳ <b>Note <code>(Kernel Starting)</code>:</b> This notebook takes about 30 seconds to be ready to use. You may start and watch the video while you wait.</p>"
   ]
  },
  {
   "cell_type": "code",
   "execution_count": 1,
   "metadata": {
    "height": 47
   },
   "outputs": [],
   "source": [
    "import warnings\n",
    "warnings.filterwarnings('ignore')"
   ]
  },
  {
   "cell_type": "markdown",
   "metadata": {},
   "source": [
    "## Get API keys"
   ]
  },
  {
   "cell_type": "code",
   "execution_count": 2,
   "metadata": {
    "height": 47
   },
   "outputs": [],
   "source": [
    "from utils import get_tavily_api_key\n",
    "TAVILY_API_KEY = get_tavily_api_key()"
   ]
  },
  {
   "cell_type": "markdown",
   "metadata": {},
   "source": [
    "## Load helper functions"
   ]
  },
  {
   "cell_type": "code",
   "execution_count": 3,
   "metadata": {
    "height": 64
   },
   "outputs": [],
   "source": [
    "from utils import llama31\n",
    "from utils import cprint\n",
    "import json"
   ]
  },
  {
   "cell_type": "markdown",
   "metadata": {},
   "source": [
    "<p style=\"background-color:#fff6ff; padding:15px; border-width:3px; border-color:#efe6ef; border-style:solid; border-radius:6px\"> 💻 &nbsp; <b>Access <code>requirements.txt</code> and <code>utils.py</code> files:</b> 1) click on the <em>\"File\"</em> option on the top menu of the notebook and then 2) click on <em>\"Open\"</em>. For more help, please see the <em>\"Appendix - Tips and Help\"</em> Lesson.</p>"
   ]
  },
  {
   "cell_type": "markdown",
   "metadata": {},
   "source": [
    "## Define tool system prompt"
   ]
  },
  {
   "cell_type": "code",
   "execution_count": 4,
   "metadata": {
    "height": 98
   },
   "outputs": [
    {
     "name": "stdout",
     "output_type": "stream",
     "text": [
      "18 October 2024\n"
     ]
    }
   ],
   "source": [
    "from datetime import datetime\n",
    "\n",
    "current_date = datetime.now()\n",
    "formatted_date = current_date.strftime(\"%d %B %Y\")\n",
    "print(formatted_date)"
   ]
  },
  {
   "cell_type": "code",
   "execution_count": 5,
   "metadata": {
    "height": 132
   },
   "outputs": [],
   "source": [
    "tool_system_prompt = f\"\"\"<|begin_of_text|><|start_header_id|>system<|end_header_id|>\n",
    "\n",
    "Environment: ipython\n",
    "Tools: brave_search, wolfram_alpha\n",
    "Cutting Knowledge Date: December 2023\n",
    "Today Date: {formatted_date}\n",
    "\"\"\""
   ]
  },
  {
   "cell_type": "markdown",
   "metadata": {},
   "source": [
    "## The brave_search built-in tool"
   ]
  },
  {
   "cell_type": "code",
   "execution_count": 6,
   "metadata": {
    "height": 98
   },
   "outputs": [],
   "source": [
    "prompt = tool_system_prompt + f\"\"\"<|eot_id|><|start_header_id|>user<|end_header_id|>\n",
    "\n",
    "What is the current weather in Menlo Park, California?\n",
    "\n",
    "<|eot_id|><|start_header_id|>assistant<|end_header_id|>\"\"\""
   ]
  },
  {
   "cell_type": "code",
   "execution_count": 7,
   "metadata": {
    "height": 47
   },
   "outputs": [
    {
     "name": "stdout",
     "output_type": "stream",
     "text": [
      "\n",
      "\n",
      "brave_search.call(query=\"Menlo Park California weather\")\n"
     ]
    }
   ],
   "source": [
    "response = llama31(prompt)\n",
    "print(response)"
   ]
  },
  {
   "cell_type": "code",
   "execution_count": 8,
   "metadata": {
    "height": 98
   },
   "outputs": [],
   "source": [
    "no_tool_call_prompt = tool_system_prompt + f\"\"\"<|eot_id|><|start_header_id|>user<|end_header_id|>\n",
    "\n",
    "What is the population of California?\n",
    "\n",
    "<|eot_id|><|start_header_id|>assistant<|end_header_id|>\"\"\""
   ]
  },
  {
   "cell_type": "code",
   "execution_count": 9,
   "metadata": {
    "height": 47
   },
   "outputs": [
    {
     "name": "stdout",
     "output_type": "stream",
     "text": [
      "\n",
      "\n",
      "As of the 2020 United States Census, the population of California is approximately 39.5 million people. However, please note that this information may have changed slightly since the last census, and the current population may be higher due to ongoing growth.\n"
     ]
    }
   ],
   "source": [
    "no_tool_call_response = llama31(no_tool_call_prompt)\n",
    "print(no_tool_call_response)"
   ]
  },
  {
   "cell_type": "markdown",
   "metadata": {},
   "source": [
    "### Calling the search API"
   ]
  },
  {
   "cell_type": "code",
   "execution_count": 10,
   "metadata": {
    "height": 98
   },
   "outputs": [
    {
     "name": "stdout",
     "output_type": "stream",
     "text": [
      "{\u001b[37m\u001b[39;49;00m\n",
      "\u001b[37m    \u001b[39;49;00m\u001b[94m\"query\"\u001b[39;49;00m:\u001b[37m \u001b[39;49;00m\u001b[33m\"current weather in Menlo Park, California\"\u001b[39;49;00m,\u001b[37m\u001b[39;49;00m\n",
      "\u001b[37m    \u001b[39;49;00m\u001b[94m\"follow_up_questions\"\u001b[39;49;00m:\u001b[37m \u001b[39;49;00m\u001b[34mnull\u001b[39;49;00m,\u001b[37m\u001b[39;49;00m\n",
      "\u001b[37m    \u001b[39;49;00m\u001b[94m\"answer\"\u001b[39;49;00m:\u001b[37m \u001b[39;49;00m\u001b[34mnull\u001b[39;49;00m,\u001b[37m\u001b[39;49;00m\n",
      "\u001b[37m    \u001b[39;49;00m\u001b[94m\"images\"\u001b[39;49;00m:\u001b[37m \u001b[39;49;00m[],\u001b[37m\u001b[39;49;00m\n",
      "\u001b[37m    \u001b[39;49;00m\u001b[94m\"results\"\u001b[39;49;00m:\u001b[37m \u001b[39;49;00m[\u001b[37m\u001b[39;49;00m\n",
      "\u001b[37m        \u001b[39;49;00m{\u001b[37m\u001b[39;49;00m\n",
      "\u001b[37m            \u001b[39;49;00m\u001b[94m\"title\"\u001b[39;49;00m:\u001b[37m \u001b[39;49;00m\u001b[33m\"Weather in Menlo Park, California\"\u001b[39;49;00m,\u001b[37m\u001b[39;49;00m\n",
      "\u001b[37m            \u001b[39;49;00m\u001b[94m\"url\"\u001b[39;49;00m:\u001b[37m \u001b[39;49;00m\u001b[33m\"https://www.weatherapi.com/\"\u001b[39;49;00m,\u001b[37m\u001b[39;49;00m\n",
      "\u001b[37m            \u001b[39;49;00m\u001b[94m\"content\"\u001b[39;49;00m:\u001b[37m \u001b[39;49;00m\u001b[33m\"{'location': {'name': 'Menlo Park', 'region': 'California', 'country': 'United States of America', 'lat': 37.4539, 'lon': -122.1811, 'tz_id': 'America/Los_Angeles', 'localtime_epoch': 1729285510, 'localtime': '2024-10-18 14:05'}, 'current': {'last_updated_epoch': 1729285200, 'last_updated': '2024-10-18 14:00', 'temp_c': 22.8, 'temp_f': 73.0, 'is_day': 1, 'condition': {'text': 'Sunny', 'icon': '//cdn.weatherapi.com/weather/64x64/day/113.png', 'code': 1000}, 'wind_mph': 8.3, 'wind_kph': 13.3, 'wind_degree': 329, 'wind_dir': 'NNW', 'pressure_mb': 1019.0, 'pressure_in': 30.09, 'precip_mm': 0.0, 'precip_in': 0.0, 'humidity': 21, 'cloud': 0, 'feelslike_c': 22.5, 'feelslike_f': 72.5, 'windchill_c': 24.4, 'windchill_f': 75.8, 'heatindex_c': 23.3, 'heatindex_f': 74.0, 'dewpoint_c': -3.7, 'dewpoint_f': 25.4, 'vis_km': 16.0, 'vis_miles': 9.0, 'uv': 4.4, 'gust_mph': 9.5, 'gust_kph': 15.3}}\"\u001b[39;49;00m,\u001b[37m\u001b[39;49;00m\n",
      "\u001b[37m            \u001b[39;49;00m\u001b[94m\"score\"\u001b[39;49;00m:\u001b[37m \u001b[39;49;00m\u001b[34m0.9864336\u001b[39;49;00m,\u001b[37m\u001b[39;49;00m\n",
      "\u001b[37m            \u001b[39;49;00m\u001b[94m\"raw_content\"\u001b[39;49;00m:\u001b[37m \u001b[39;49;00m\u001b[34mnull\u001b[39;49;00m\u001b[37m\u001b[39;49;00m\n",
      "\u001b[37m        \u001b[39;49;00m},\u001b[37m\u001b[39;49;00m\n",
      "\u001b[37m        \u001b[39;49;00m{\u001b[37m\u001b[39;49;00m\n",
      "\u001b[37m            \u001b[39;49;00m\u001b[94m\"title\"\u001b[39;49;00m:\u001b[37m \u001b[39;49;00m\u001b[33m\"Monthly Weather Forecast for Menlo Park, CA - weather.com\"\u001b[39;49;00m,\u001b[37m\u001b[39;49;00m\n",
      "\u001b[37m            \u001b[39;49;00m\u001b[94m\"url\"\u001b[39;49;00m:\u001b[37m \u001b[39;49;00m\u001b[33m\"https://weather.com/weather/monthly/l/06d1f56cde28b55bcf833ce90de66dc76f9b9c41e713774cc00cadaaadc843d8c61cb29299b699e14f921905feec9b03\"\u001b[39;49;00m,\u001b[37m\u001b[39;49;00m\n",
      "\u001b[37m            \u001b[39;49;00m\u001b[94m\"content\"\u001b[39;49;00m:\u001b[37m \u001b[39;49;00m\u001b[33m\"Weather.com brings you the most accurate monthly weather forecast for Menlo Park, CA with average/record and high/low temperatures, ... 18 75 \\u00b0 57 \\u00b0 19. 79 \\u00b0 56 \\u00b0 ... October: 74 \\u00b0 48 \\u00b0 0.64\"\u001b[39;49;00m,\u001b[37m\u001b[39;49;00m\n",
      "\u001b[37m            \u001b[39;49;00m\u001b[94m\"score\"\u001b[39;49;00m:\u001b[37m \u001b[39;49;00m\u001b[34m0.9856076\u001b[39;49;00m,\u001b[37m\u001b[39;49;00m\n",
      "\u001b[37m            \u001b[39;49;00m\u001b[94m\"raw_content\"\u001b[39;49;00m:\u001b[37m \u001b[39;49;00m\u001b[34mnull\u001b[39;49;00m\u001b[37m\u001b[39;49;00m\n",
      "\u001b[37m        \u001b[39;49;00m},\u001b[37m\u001b[39;49;00m\n",
      "\u001b[37m        \u001b[39;49;00m{\u001b[37m\u001b[39;49;00m\n",
      "\u001b[37m            \u001b[39;49;00m\u001b[94m\"title\"\u001b[39;49;00m:\u001b[37m \u001b[39;49;00m\u001b[33m\"October weather - Autumn 2024 - Menlo Park, CA\"\u001b[39;49;00m,\u001b[37m\u001b[39;49;00m\n",
      "\u001b[37m            \u001b[39;49;00m\u001b[94m\"url\"\u001b[39;49;00m:\u001b[37m \u001b[39;49;00m\u001b[33m\"https://www.weather-us.com/en/california-usa/menlo-park-weather-october\"\u001b[39;49;00m,\u001b[37m\u001b[39;49;00m\n",
      "\u001b[37m            \u001b[39;49;00m\u001b[94m\"content\"\u001b[39;49;00m:\u001b[37m \u001b[39;49;00m\u001b[33m\"Average rainfall days in October Average sunshine days in October October, the same as September, in Menlo Park, California, is another pleasant autumn month, with an average temperature fluctuating between 54.5\\u00b0F (12.5\\u00b0C) and 70.3\\u00b0F (21.3\\u00b0C). Menlo Park records an average low-temperature of 54.5\\u00b0F (12.5\\u00b0C) throughout the month of October. September and October, with an average relative humidity of 65%, are the least humid months. The months with the highest UV index are April through October, with an average maximum UV index of 5. In Menlo Park, the average day length in October is 11h and 13min. April through October, with an average maximum UV index of 5, are months with the highest UV index. Average rainfall days in October Average sunshine days in October\"\u001b[39;49;00m,\u001b[37m\u001b[39;49;00m\n",
      "\u001b[37m            \u001b[39;49;00m\u001b[94m\"score\"\u001b[39;49;00m:\u001b[37m \u001b[39;49;00m\u001b[34m0.9839091\u001b[39;49;00m,\u001b[37m\u001b[39;49;00m\n",
      "\u001b[37m            \u001b[39;49;00m\u001b[94m\"raw_content\"\u001b[39;49;00m:\u001b[37m \u001b[39;49;00m\u001b[34mnull\u001b[39;49;00m\u001b[37m\u001b[39;49;00m\n",
      "\u001b[37m        \u001b[39;49;00m},\u001b[37m\u001b[39;49;00m\n",
      "\u001b[37m        \u001b[39;49;00m{\u001b[37m\u001b[39;49;00m\n",
      "\u001b[37m            \u001b[39;49;00m\u001b[94m\"title\"\u001b[39;49;00m:\u001b[37m \u001b[39;49;00m\u001b[33m\"National Weather Service\"\u001b[39;49;00m,\u001b[37m\u001b[39;49;00m\n",
      "\u001b[37m            \u001b[39;49;00m\u001b[94m\"url\"\u001b[39;49;00m:\u001b[37m \u001b[39;49;00m\u001b[33m\"https://forecast.weather.gov/MapClick.php?site=mtr&textField1=37.4800&textField2=-122.1440\"\u001b[39;49;00m,\u001b[37m\u001b[39;49;00m\n",
      "\u001b[37m            \u001b[39;49;00m\u001b[94m\"content\"\u001b[39;49;00m:\u001b[37m \u001b[39;49;00m\u001b[33m\"Current conditions at Palo Alto Airport (KPAO) Lat: 37.46667\\u00b0NLon: 122.11667\\u00b0WElev: 7.0ft. ... Menlo Park CA 37.48\\u00b0N 122.13\\u00b0W (Elev. 3 ft) Last Update: 4:46 am PDT Oct 13, 2024. Forecast Valid: 11am PDT Oct 13, 2024-6pm PDT Oct 19, 2024 . Forecast Discussion . Additional Resources. Radar & Satellite Image. Hourly Weather Forecast.\"\u001b[39;49;00m,\u001b[37m\u001b[39;49;00m\n",
      "\u001b[37m            \u001b[39;49;00m\u001b[94m\"score\"\u001b[39;49;00m:\u001b[37m \u001b[39;49;00m\u001b[34m0.9814889\u001b[39;49;00m,\u001b[37m\u001b[39;49;00m\n",
      "\u001b[37m            \u001b[39;49;00m\u001b[94m\"raw_content\"\u001b[39;49;00m:\u001b[37m \u001b[39;49;00m\u001b[34mnull\u001b[39;49;00m\u001b[37m\u001b[39;49;00m\n",
      "\u001b[37m        \u001b[39;49;00m},\u001b[37m\u001b[39;49;00m\n",
      "\u001b[37m        \u001b[39;49;00m{\u001b[37m\u001b[39;49;00m\n",
      "\u001b[37m            \u001b[39;49;00m\u001b[94m\"title\"\u001b[39;49;00m:\u001b[37m \u001b[39;49;00m\u001b[33m\"Weather in Menlo Park, California, USA - timeanddate.com\"\u001b[39;49;00m,\u001b[37m\u001b[39;49;00m\n",
      "\u001b[37m            \u001b[39;49;00m\u001b[94m\"url\"\u001b[39;49;00m:\u001b[37m \u001b[39;49;00m\u001b[33m\"https://www.timeanddate.com/weather/@5372223\"\u001b[39;49;00m,\u001b[37m\u001b[39;49;00m\n",
      "\u001b[37m            \u001b[39;49;00m\u001b[94m\"content\"\u001b[39;49;00m:\u001b[37m \u001b[39;49;00m\u001b[33m\"Time Zone News Calendar & Holiday News Time Zones Time Zones Home Time Zone Converter Time Zone Map Time Changes Worldwide Time Zone News Calendars Home Weather 2-Week Forecast Sun Calculator Moon Calculator Countdown for Your Site Calculators Calculators Home Weather Time Zone Weather TodayWeather Hourly14 Day ForecastYesterday/Past WeatherClimate (Averages) Current Time: 10\\u00a0mi Forecast 7\\u00a0mi 7\\u00a0mi 7\\u00a0mi 8\\u00a0mi 7\\u00a0mi 7\\u00a0mi 7\\u00a0mi * Updated Wednesday, October 2, 2024 6:03:03 pm Menlo Park time - Weather by CustomWeather, \\u00a9 2024 14 day forecast, day-by-dayHour-by-hour forecast for next week More weather last week Forecast for the next 2 weeks Sun & Moon times precise to the second. Privacy Policy Time Zones Weather Calculators Privacy & Terms\"\u001b[39;49;00m,\u001b[37m\u001b[39;49;00m\n",
      "\u001b[37m            \u001b[39;49;00m\u001b[94m\"score\"\u001b[39;49;00m:\u001b[37m \u001b[39;49;00m\u001b[34m0.9300781\u001b[39;49;00m,\u001b[37m\u001b[39;49;00m\n",
      "\u001b[37m            \u001b[39;49;00m\u001b[94m\"raw_content\"\u001b[39;49;00m:\u001b[37m \u001b[39;49;00m\u001b[34mnull\u001b[39;49;00m\u001b[37m\u001b[39;49;00m\n",
      "\u001b[37m        \u001b[39;49;00m}\u001b[37m\u001b[39;49;00m\n",
      "\u001b[37m    \u001b[39;49;00m],\u001b[37m\u001b[39;49;00m\n",
      "\u001b[37m    \u001b[39;49;00m\u001b[94m\"response_time\"\u001b[39;49;00m:\u001b[37m \u001b[39;49;00m\u001b[34m2.95\u001b[39;49;00m\u001b[37m\u001b[39;49;00m\n",
      "}\u001b[37m\u001b[39;49;00m\n",
      "\n"
     ]
    }
   ],
   "source": [
    "from tavily import TavilyClient\n",
    "tavily_client = TavilyClient(api_key=TAVILY_API_KEY)\n",
    "\n",
    "result = tavily_client.search(\"current weather in Menlo Park, California\")\n",
    "cprint(result)"
   ]
  },
  {
   "cell_type": "markdown",
   "metadata": {},
   "source": [
    "### Reprompting Llama with search tool response"
   ]
  },
  {
   "cell_type": "code",
   "execution_count": 11,
   "metadata": {
    "height": 47
   },
   "outputs": [
    {
     "name": "stdout",
     "output_type": "stream",
     "text": [
      "{'location': {'name': 'Menlo Park', 'region': 'California', 'country': 'United States of America', 'lat': 37.4539, 'lon': -122.1811, 'tz_id': 'America/Los_Angeles', 'localtime_epoch': 1729285510, 'localtime': '2024-10-18 14:05'}, 'current': {'last_updated_epoch': 1729285200, 'last_updated': '2024-10-18 14:00', 'temp_c': 22.8, 'temp_f': 73.0, 'is_day': 1, 'condition': {'text': 'Sunny', 'icon': '//cdn.weatherapi.com/weather/64x64/day/113.png', 'code': 1000}, 'wind_mph': 8.3, 'wind_kph': 13.3, 'wind_degree': 329, 'wind_dir': 'NNW', 'pressure_mb': 1019.0, 'pressure_in': 30.09, 'precip_mm': 0.0, 'precip_in': 0.0, 'humidity': 21, 'cloud': 0, 'feelslike_c': 22.5, 'feelslike_f': 72.5, 'windchill_c': 24.4, 'windchill_f': 75.8, 'heatindex_c': 23.3, 'heatindex_f': 74.0, 'dewpoint_c': -3.7, 'dewpoint_f': 25.4, 'vis_km': 16.0, 'vis_miles': 9.0, 'uv': 4.4, 'gust_mph': 9.5, 'gust_kph': 15.3}}\n"
     ]
    }
   ],
   "source": [
    "search_result = result[\"results\"][0][\"content\"]\n",
    "print(search_result)"
   ]
  },
  {
   "cell_type": "code",
   "execution_count": 12,
   "metadata": {
    "height": 200
   },
   "outputs": [
    {
     "name": "stdout",
     "output_type": "stream",
     "text": [
      "<|begin_of_text|><|start_header_id|>system<|end_header_id|>\n",
      "\n",
      "Environment: ipython\n",
      "Tools: brave_search, wolfram_alpha\n",
      "Cutting Knowledge Date: December 2023\n",
      "Today Date: 18 October 2024\n",
      "<|eot_id|><|start_header_id|>user<|end_header_id|>\n",
      "What is the current weather in Menlo Park, California?\n",
      "\n",
      "<|eot_id|><|start_header_id|>assistant<|end_header_id|>\n",
      "\n",
      "<|python_tag|>\n",
      "\n",
      "brave_search.call(query=\"Menlo Park California weather\")<|eom_id|>\n",
      "<|start_header_id|>ipython<|end_header_id|>\n",
      "\n",
      "{'location': {'name': 'Menlo Park', 'region': 'California', 'country': 'United States of America', 'lat': 37.4539, 'lon': -122.1811, 'tz_id': 'America/Los_Angeles', 'localtime_epoch': 1729285510, 'localtime': '2024-10-18 14:05'}, 'current': {'last_updated_epoch': 1729285200, 'last_updated': '2024-10-18 14:00', 'temp_c': 22.8, 'temp_f': 73.0, 'is_day': 1, 'condition': {'text': 'Sunny', 'icon': '//cdn.weatherapi.com/weather/64x64/day/113.png', 'code': 1000}, 'wind_mph': 8.3, 'wind_kph': 13.3, 'wind_degree': 329, 'wind_dir': 'NNW', 'pressure_mb': 1019.0, 'pressure_in': 30.09, 'precip_mm': 0.0, 'precip_in': 0.0, 'humidity': 21, 'cloud': 0, 'feelslike_c': 22.5, 'feelslike_f': 72.5, 'windchill_c': 24.4, 'windchill_f': 75.8, 'heatindex_c': 23.3, 'heatindex_f': 74.0, 'dewpoint_c': -3.7, 'dewpoint_f': 25.4, 'vis_km': 16.0, 'vis_miles': 9.0, 'uv': 4.4, 'gust_mph': 9.5, 'gust_kph': 15.3}}<|eot_id|><|start_header_id|>assistant<|end_header_id|>\n",
      "\n"
     ]
    }
   ],
   "source": [
    "prompt = tool_system_prompt + f\"\"\"<|eot_id|><|start_header_id|>user<|end_header_id|>\n",
    "What is the current weather in Menlo Park, California?\n",
    "\n",
    "<|eot_id|><|start_header_id|>assistant<|end_header_id|>\n",
    "\n",
    "<|python_tag|>{response}<|eom_id|>\n",
    "<|start_header_id|>ipython<|end_header_id|>\n",
    "\n",
    "{search_result}<|eot_id|><|start_header_id|>assistant<|end_header_id|>\n",
    "\"\"\"\n",
    "print(prompt)"
   ]
  },
  {
   "cell_type": "code",
   "execution_count": 13,
   "metadata": {
    "height": 47
   },
   "outputs": [
    {
     "name": "stdout",
     "output_type": "stream",
     "text": [
      "The current weather in Menlo Park, California is sunny with a temperature of 73°F (22.8°C) and a wind speed of 13.3 km/h (8.3 mph). The humidity is 21% and the pressure is 1019 mb.\n"
     ]
    }
   ],
   "source": [
    "response = llama31(prompt)\n",
    "print(response)"
   ]
  },
  {
   "cell_type": "markdown",
   "metadata": {},
   "source": [
    "## Using the higher-level message"
   ]
  },
  {
   "cell_type": "code",
   "execution_count": 14,
   "metadata": {
    "height": 115
   },
   "outputs": [],
   "source": [
    "system_prompt_content = f\"\"\"\n",
    "Environment: ipython\n",
    "Tools: brave_search, wolfram_alpha\n",
    "Cutting Knowledge Date: December 2023\n",
    "Today Date: {formatted_date}\n",
    "\"\"\""
   ]
  },
  {
   "cell_type": "code",
   "execution_count": 15,
   "metadata": {
    "height": 81
   },
   "outputs": [],
   "source": [
    "messages = [\n",
    "    {\"role\": \"system\", \"content\":  system_prompt_content},\n",
    "    {\"role\": \"user\",   \"content\": \"What is the current weather in Menlo Park, California?\"}\n",
    "  ]"
   ]
  },
  {
   "cell_type": "code",
   "execution_count": 16,
   "metadata": {
    "height": 47
   },
   "outputs": [
    {
     "name": "stdout",
     "output_type": "stream",
     "text": [
      "brave_search.call(query=\"Menlo Park California weather\")\n"
     ]
    }
   ],
   "source": [
    "response = llama31(messages)\n",
    "print(response)"
   ]
  },
  {
   "cell_type": "code",
   "execution_count": 17,
   "metadata": {
    "height": 115
   },
   "outputs": [],
   "source": [
    "messages = [\n",
    "    {\"role\": \"system\",     \"content\":  system_prompt_content},\n",
    "    {\"role\": \"user\",       \"content\": \"What is the current weather in Menlo Park, California?\"},\n",
    "    {\"role\": \"assistant\",  \"content\": response},\n",
    "    {\"role\": \"ipython\",    \"content\": search_result}\n",
    "  ]"
   ]
  },
  {
   "cell_type": "code",
   "execution_count": 18,
   "metadata": {
    "height": 47
   },
   "outputs": [
    {
     "name": "stdout",
     "output_type": "stream",
     "text": [
      "The current weather in Menlo Park, California is sunny with a temperature of 73°F (22.8°C) and a wind speed of 13.3 km/h (8.3 mph) coming from the NNW. The humidity is 21% and the pressure is 1019 mb.\n"
     ]
    }
   ],
   "source": [
    "response = llama31(messages)\n",
    "print(response)"
   ]
  },
  {
   "cell_type": "markdown",
   "metadata": {},
   "source": [
    "## The Wolfram Alpha tool"
   ]
  },
  {
   "cell_type": "code",
   "execution_count": 19,
   "metadata": {
    "height": 30
   },
   "outputs": [],
   "source": [
    "math_problem = \"Can you help me solve this equation: x^3 - 2x^2 - x + 2 = 0?\""
   ]
  },
  {
   "cell_type": "code",
   "execution_count": 20,
   "metadata": {
    "height": 81
   },
   "outputs": [],
   "source": [
    "messages = [\n",
    "    {\"role\": \"system\",  \"content\": system_prompt_content},\n",
    "    {\"role\": \"user\",    \"content\": math_problem}\n",
    "]"
   ]
  },
  {
   "cell_type": "code",
   "execution_count": 21,
   "metadata": {
    "height": 47
   },
   "outputs": [
    {
     "name": "stdout",
     "output_type": "stream",
     "text": [
      "wolfram_alpha.call(query=\"solve x^3 - 2x^2 - x + 2 = 0\")\n"
     ]
    }
   ],
   "source": [
    "response = llama31(messages)\n",
    "print(response)"
   ]
  },
  {
   "cell_type": "markdown",
   "metadata": {},
   "source": [
    "### Calling the Wolfram Alpha tool"
   ]
  },
  {
   "cell_type": "code",
   "execution_count": 22,
   "metadata": {
    "height": 64
   },
   "outputs": [
    {
     "name": "stdout",
     "output_type": "stream",
     "text": [
      "x = ± 1\n",
      "x = 2\n"
     ]
    }
   ],
   "source": [
    "from utils import wolfram_alpha\n",
    "tool_result = wolfram_alpha(\"solve x^3 - 2x^2 - x + 2 = 0\")\n",
    "print(tool_result)"
   ]
  },
  {
   "cell_type": "markdown",
   "metadata": {},
   "source": [
    "### Checking the result"
   ]
  },
  {
   "cell_type": "code",
   "execution_count": 23,
   "metadata": {
    "height": 132
   },
   "outputs": [
    {
     "name": "stdout",
     "output_type": "stream",
     "text": [
      "[-1, 1, 2]\n"
     ]
    }
   ],
   "source": [
    "from sympy import symbols, Eq, solve\n",
    "\n",
    "x = symbols('x')                           # Define the variable\n",
    "equation = Eq(x**3 - 2*x**2 - 1*x + 2, 0) # Define the equation\n",
    "solution = solve(equation, x)              # Solve the equation\n",
    "\n",
    "print(solution)"
   ]
  },
  {
   "cell_type": "markdown",
   "metadata": {},
   "source": [
    "### Reprompting Llama with Wolfram Alpha tool response"
   ]
  },
  {
   "cell_type": "code",
   "execution_count": 24,
   "metadata": {
    "height": 115
   },
   "outputs": [],
   "source": [
    "messages = [\n",
    "    {\"role\": \"system\", \"content\": system_prompt_content},\n",
    "    {\"role\": \"user\",      \"content\": math_problem},\n",
    "    {\"role\": \"assistant\", \"content\": response},\n",
    "    {\"role\": \"ipython\",   \"content\": tool_result}\n",
    "]"
   ]
  },
  {
   "cell_type": "code",
   "execution_count": 25,
   "metadata": {
    "height": 47
   },
   "outputs": [
    {
     "name": "stdout",
     "output_type": "stream",
     "text": [
      "The equation x^3 - 2x^2 - x + 2 = 0 has three solutions: x = 1, x = -1, and x = 2.\n"
     ]
    }
   ],
   "source": [
    "response = llama31(messages)\n",
    "print(response)"
   ]
  },
  {
   "cell_type": "markdown",
   "metadata": {},
   "source": [
    "## The code interpreter built-in tool"
   ]
  },
  {
   "cell_type": "code",
   "execution_count": 26,
   "metadata": {
    "height": 98
   },
   "outputs": [],
   "source": [
    "loan_question = (\n",
    "    \"How much is the monthly payment, total payment, \"\n",
    "    \"and total interest paid for a 30 year mortgage of $1M \"\n",
    "    \"at a fixed rate of 6% with a 20% down payment?\"\n",
    ")"
   ]
  },
  {
   "cell_type": "code",
   "execution_count": 27,
   "metadata": {
    "height": 81
   },
   "outputs": [],
   "source": [
    "messages = [\n",
    "    {\"role\": \"system\",     \"content\": system_prompt_content},\n",
    "    {\"role\": \"user\",       \"content\": loan_question},\n",
    "  ]"
   ]
  },
  {
   "cell_type": "code",
   "execution_count": 28,
   "metadata": {
    "height": 47
   },
   "outputs": [
    {
     "name": "stdout",
     "output_type": "stream",
     "text": [
      "wolfram_alpha.call(\"monthly payment, total payment, total interest paid for a 30 year mortgage of $800000 at 6% with a 20% down payment\")\n"
     ]
    }
   ],
   "source": [
    "response = llama31(messages)\n",
    "print(response)"
   ]
  },
  {
   "cell_type": "markdown",
   "metadata": {},
   "source": [
    "# Calculate loan payments"
   ]
  },
  {
   "cell_type": "code",
   "execution_count": 29,
   "metadata": {
    "height": 183
   },
   "outputs": [
    {
     "name": "stdout",
     "output_type": "stream",
     "text": [
      "Monthly payment: $4796\n",
      "Total payment: $1726705\n",
      "Total interest paid: $926705\n"
     ]
    }
   ],
   "source": [
    "from utils import calculate_loan\n",
    "monthly_payment, total_payment, total_interest_paid = calculate_loan(\n",
    "    loan_amount = 1000000, \n",
    "    annual_interest_rate = 0.06, \n",
    "    loan_term = 30, \n",
    "    down_payment = 200000)\n",
    "\n",
    "print(f\"Monthly payment: ${(monthly_payment)}\")\n",
    "print(f\"Total payment: ${(total_payment)}\")\n",
    "print(f\"Total interest paid: ${(total_interest_paid)}\")"
   ]
  },
  {
   "cell_type": "markdown",
   "metadata": {},
   "source": [
    "## Generating the code in Java"
   ]
  },
  {
   "cell_type": "code",
   "execution_count": 30,
   "metadata": {
    "height": 98
   },
   "outputs": [],
   "source": [
    "messages = [\n",
    "    {\"role\":    \"system\",     \n",
    "     \"content\": system_prompt_content + \"\\nGenerate the code in Java.\"},\n",
    "    {\"role\":    \"user\",       \"content\": loan_question},\n",
    "  ]"
   ]
  },
  {
   "cell_type": "code",
   "execution_count": 31,
   "metadata": {
    "height": 47
   },
   "outputs": [
    {
     "name": "stdout",
     "output_type": "stream",
     "text": [
      "import java.util.Scanner;\n",
      "\n",
      "public class MortgageCalculator {\n",
      "    public static void main(String[] args) {\n",
      "        // Input values\n",
      "        double principal = 1000000; // $1M\n",
      "        double downPayment = 0.2 * principal; // 20% down payment\n",
      "        double interestRate = 0.06; // 6% interest rate\n",
      "        int years = 30; // 30 years\n",
      "\n",
      "        // Calculate the loan amount\n",
      "        double loanAmount = principal - downPayment;\n",
      "\n",
      "        // Calculate the monthly interest rate\n",
      "        double monthlyInterestRate = interestRate / 12;\n",
      "\n",
      "        // Calculate the number of payments\n",
      "        int numberOfPayments = years * 12;\n",
      "\n",
      "        // Calculate the monthly payment\n",
      "        double monthlyPayment = loanAmount * monthlyInterestRate * Math.pow(1 + monthlyInterestRate, numberOfPayments) / (Math.pow(1 + monthlyInterestRate, numberOfPayments) - 1);\n",
      "\n",
      "        // Calculate the total payment\n",
      "        double totalPayment = monthlyPayment * numberOfPayments;\n",
      "\n",
      "        // Calculate the total interest paid\n",
      "        double totalInterestPaid = totalPayment - loanAmount;\n",
      "\n",
      "        // Print the results\n",
      "        System.out.println(\"Monthly Payment: $\" + String.format(\"%.2f\", monthlyPayment));\n",
      "        System.out.println(\"Total Payment: $\" + String.format(\"%.2f\", totalPayment));\n",
      "        System.out.println(\"Total Interest Paid: $\" + String.format(\"%.2f\", totalInterestPaid));\n",
      "    }\n",
      "}\n"
     ]
    }
   ],
   "source": [
    "response = llama31(messages)\n",
    "print(response)"
   ]
  },
  {
   "cell_type": "markdown",
   "metadata": {},
   "source": [
    "### Reprompting Llama with Code Interpreter tool response"
   ]
  },
  {
   "cell_type": "code",
   "execution_count": 32,
   "metadata": {
    "height": 98
   },
   "outputs": [],
   "source": [
    "code_interpreter_tool_response=\"\"\"\n",
    "Monthly payment: $4796\n",
    "Total payment: $1726705\n",
    "Total interest paid: $926705\n",
    "\"\"\""
   ]
  },
  {
   "cell_type": "code",
   "execution_count": 33,
   "metadata": {
    "height": 115
   },
   "outputs": [],
   "source": [
    "messages = [\n",
    "    {\"role\": \"system\", \"content\":  system_prompt_content},\n",
    "    {\"role\": \"user\",      \"content\": loan_question},\n",
    "    {\"role\": \"assistant\", \"content\": response},\n",
    "    {\"role\": \"ipython\",   \"content\": code_interpreter_tool_response}\n",
    "  ]"
   ]
  },
  {
   "cell_type": "code",
   "execution_count": 34,
   "metadata": {
    "height": 47
   },
   "outputs": [
    {
     "name": "stdout",
     "output_type": "stream",
     "text": [
      "The monthly payment for a 30-year mortgage of $1M at a fixed rate of 6% with a 20% down payment is $4,796. The total payment over the life of the loan is $1,726,705, and the total interest paid is $926,705.\n"
     ]
    }
   ],
   "source": [
    "response = llama31(messages)\n",
    "print(response)"
   ]
  },
  {
   "cell_type": "markdown",
   "metadata": {},
   "source": [
    "## Llama 3.1 custom tool calling"
   ]
  },
  {
   "cell_type": "code",
   "execution_count": 35,
   "metadata": {
    "height": 132
   },
   "outputs": [
    {
     "name": "stdout",
     "output_type": "stream",
     "text": [
      "Top 5 trending songs in US:\n",
      "['Blinding Lights - The Weeknd', 'Levitating - Dua Lipa', 'Peaches - Justin Bieber', 'Save Your Tears - The Weeknd', 'Good 4 U - Olivia Rodrigo']\n"
     ]
    }
   ],
   "source": [
    "from utils import trending_songs, get_boiling_point\n",
    "\n",
    "country = \"US\"\n",
    "top_num = 5\n",
    "top_songs = trending_songs(country, top_num)\n",
    "print(f\"Top {top_num} trending songs in {country}:\")\n",
    "print(top_songs)"
   ]
  },
  {
   "cell_type": "markdown",
   "metadata": {},
   "source": [
    "<p style=\"background-color:#fff6ff; padding:15px; border-width:3px; border-color:#efe6ef; border-style:solid; border-radius:6px\"> 💻 &nbsp; <b>Access <code>trending_songs()</code> in <code>utils.py</code> files:</b> 1) click on the <em>\"File\"</em> option on the top menu of the notebook and then 2) click on <em>\"Open\"</em>. For more help, please see the <em>\"Appendix - Tips and Help\"</em> Lesson.</p>"
   ]
  },
  {
   "cell_type": "markdown",
   "metadata": {},
   "source": [
    "## Prompt Llama 3.1 for custom tool call"
   ]
  },
  {
   "cell_type": "code",
   "execution_count": 36,
   "metadata": {
    "height": 540
   },
   "outputs": [],
   "source": [
    "user_prompt = \"\"\"\n",
    "Answer the user's question by using the following functions if needed.\n",
    "If none of the functions can be used, please say so.\n",
    "Functions (in JSON format):\n",
    "{\n",
    "    \"type\": \"function\", \"function\": {\n",
    "        \"name\": \"get_boiling_point\",\n",
    "        \"description\": \"Get the boiling point of a liquid\",\n",
    "        \"parameters\": {\n",
    "            \"type\": \"object\", \"properties\": [\n",
    "                {\"liquid_name\": {\"type\": \"object\", \"description\": \"name of the liquid\"}},\n",
    "                {\"celsius\": {\"type\": \"object\", \"description\": \"whether to use celsius\"}}\n",
    "            ], \"required\": [\"liquid_name\"]\n",
    "        }\n",
    "    }\n",
    "}\n",
    "{\n",
    "    \"type\": \"function\", \"function\": {\n",
    "        \"name\": \"trending_songs\",\n",
    "        \"description\": \"Returns the trending songs on a Music site\",\n",
    "        \"parameters\": {\n",
    "            \"type\": \"object\", \"properties\": [\n",
    "                {\"country\": {\"type\": \"object\", \"description\": \"country to return trending songs for\"}},\n",
    "                {\"n\": {\"type\": \"object\", \"description\": \"The number of songs to return\"}}\n",
    "            ], \"required\": [\"country\"]\n",
    "        }\n",
    "    }\n",
    "}\n",
    "\n",
    "Question: Can you check the top 5 trending songs in US?\n",
    "\"\"\""
   ]
  },
  {
   "cell_type": "code",
   "execution_count": 37,
   "metadata": {
    "height": 166
   },
   "outputs": [],
   "source": [
    "messages = [\n",
    "    {\n",
    "      \"role\": \"system\", \"content\":  f\"\"\"\n",
    "Environment: ipython\n",
    "Cutting Knowledge Date: December 2023\n",
    "Today Date: {formatted_date}\n",
    "\"\"\"},\n",
    "    {\"role\": \"user\", \"content\": user_prompt}\n",
    "  ]"
   ]
  },
  {
   "cell_type": "code",
   "execution_count": 38,
   "metadata": {
    "height": 47
   },
   "outputs": [
    {
     "name": "stdout",
     "output_type": "stream",
     "text": [
      "{\"type\": \"function\", \"name\": \"trending_songs\", \"parameters\": {\"country\": \"US\", \"n\": \"5\"}}\n"
     ]
    }
   ],
   "source": [
    "result = llama31(messages,405)\n",
    "print(result)"
   ]
  },
  {
   "cell_type": "markdown",
   "metadata": {},
   "source": [
    "### Calling the custom tool"
   ]
  },
  {
   "cell_type": "code",
   "execution_count": 39,
   "metadata": {
    "height": 47
   },
   "outputs": [],
   "source": [
    "custom_tools = {\"trending_songs\": trending_songs,\n",
    "                \"get_boiling_point\": get_boiling_point}"
   ]
  },
  {
   "cell_type": "code",
   "execution_count": 40,
   "metadata": {
    "height": 81
   },
   "outputs": [
    {
     "data": {
      "text/plain": [
       "('trending_songs', ['US', '5'])"
      ]
     },
     "execution_count": 40,
     "metadata": {},
     "output_type": "execute_result"
    }
   ],
   "source": [
    "res = json.loads(result)\n",
    "function_name = res['name']\n",
    "parameters = list(res['parameters'].values())\n",
    "function_name, parameters"
   ]
  },
  {
   "cell_type": "code",
   "execution_count": 41,
   "metadata": {
    "height": 47
   },
   "outputs": [
    {
     "data": {
      "text/plain": [
       "['Blinding Lights - The Weeknd',\n",
       " 'Levitating - Dua Lipa',\n",
       " 'Peaches - Justin Bieber',\n",
       " 'Save Your Tears - The Weeknd',\n",
       " 'Good 4 U - Olivia Rodrigo']"
      ]
     },
     "execution_count": 41,
     "metadata": {},
     "output_type": "execute_result"
    }
   ],
   "source": [
    "tool_result = custom_tools[function_name](*parameters)\n",
    "tool_result"
   ]
  },
  {
   "cell_type": "markdown",
   "metadata": {},
   "source": [
    "### Reprompting Llama with custom tool call result"
   ]
  },
  {
   "cell_type": "code",
   "execution_count": 42,
   "metadata": {
    "height": 200
   },
   "outputs": [],
   "source": [
    "messages = [\n",
    "    {\n",
    "      \"role\": \"system\", \"content\":  f\"\"\"\n",
    "Environment: ipython\n",
    "Cutting Knowledge Date: December 2023\n",
    "Today Date: {formatted_date}\n",
    "\"\"\"},\n",
    "    {\"role\": \"user\", \"content\": user_prompt},\n",
    "    {\"role\": \"assistant\", \"content\": result},\n",
    "    {\"role\": \"ipython\", \"content\": ','.join(tool_result)}\n",
    "  ]"
   ]
  },
  {
   "cell_type": "code",
   "execution_count": 43,
   "metadata": {
    "height": 47
   },
   "outputs": [
    {
     "name": "stdout",
     "output_type": "stream",
     "text": [
      "The top 5 trending songs in the US are:\n",
      "\n",
      "1. Blinding Lights - The Weeknd\n",
      "2. Levitating - Dua Lipa\n",
      "3. Peaches - Justin Bieber\n",
      "4. Save Your Tears - The Weeknd\n",
      "5. Good 4 U - Olivia Rodrigo\n"
     ]
    }
   ],
   "source": [
    "response = llama31(messages, 70)\n",
    "print(response)"
   ]
  },
  {
   "cell_type": "code",
   "execution_count": null,
   "metadata": {
    "height": 30
   },
   "outputs": [],
   "source": []
  },
  {
   "cell_type": "code",
   "execution_count": null,
   "metadata": {
    "height": 30
   },
   "outputs": [],
   "source": []
  },
  {
   "cell_type": "code",
   "execution_count": null,
   "metadata": {
    "height": 30
   },
   "outputs": [],
   "source": []
  },
  {
   "cell_type": "code",
   "execution_count": null,
   "metadata": {
    "height": 30
   },
   "outputs": [],
   "source": []
  },
  {
   "cell_type": "code",
   "execution_count": null,
   "metadata": {
    "height": 30
   },
   "outputs": [],
   "source": []
  }
 ],
 "metadata": {
  "colab": {
   "provenance": [],
   "toc_visible": true
  },
  "kernelspec": {
   "display_name": "Python 3 (ipykernel)",
   "language": "python",
   "name": "python3"
  },
  "language_info": {
   "codemirror_mode": {
    "name": "ipython",
    "version": 3
   },
   "file_extension": ".py",
   "mimetype": "text/x-python",
   "name": "python",
   "nbconvert_exporter": "python",
   "pygments_lexer": "ipython3",
   "version": "3.11.9"
  }
 },
 "nbformat": 4,
 "nbformat_minor": 4
}
